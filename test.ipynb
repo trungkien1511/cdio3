{
 "cells": [
  {
   "cell_type": "code",
   "execution_count": 1,
   "metadata": {},
   "outputs": [
    {
     "ename": "ModuleNotFoundError",
     "evalue": "No module named 'spacy'",
     "output_type": "error",
     "traceback": [
      "\u001b[1;31m---------------------------------------------------------------------------\u001b[0m",
      "\u001b[1;31mModuleNotFoundError\u001b[0m                       Traceback (most recent call last)",
      "Cell \u001b[1;32mIn[1], line 1\u001b[0m\n\u001b[1;32m----> 1\u001b[0m \u001b[38;5;28;01mimport\u001b[39;00m \u001b[38;5;21;01mspacy\u001b[39;00m\n\u001b[0;32m      2\u001b[0m \u001b[38;5;28;01mimport\u001b[39;00m \u001b[38;5;21;01mnumpy\u001b[39;00m \u001b[38;5;28;01mas\u001b[39;00m \u001b[38;5;21;01mnp\u001b[39;00m\n\u001b[0;32m      3\u001b[0m \u001b[38;5;28;01mimport\u001b[39;00m \u001b[38;5;21;01mtorch\u001b[39;00m\n",
      "\u001b[1;31mModuleNotFoundError\u001b[0m: No module named 'spacy'"
     ]
    }
   ],
   "source": [
    "import spacy\n",
    "import numpy as np\n",
    "import torch\n",
    "from transformers import AutoTokenizer, AutoModel\n",
    "from sklearn.cluster import KMeans\n",
    "from sklearn.metrics import pairwise_distances_argmin_min\n",
    "from gap_statistic import OptimalK"
   ]
  },
  {
   "cell_type": "code",
   "execution_count": null,
   "metadata": {},
   "outputs": [],
   "source": [
    "# Nội dung văn bản\n",
    "content = \"\"\"Hôm nay chúng ta họp để bàn về kế hoạch triển khai dự án quý tới. \n",
    "Đầu tiên, nhóm kỹ thuật sẽ cần hoàn thành việc nâng cấp hệ thống vào cuối tháng này. \n",
    "Điều này rất quan trọng để đảm bảo không ảnh hưởng đến tiến độ chung. \n",
    "Tiếp theo, nhóm kinh doanh đã liên hệ với một số đối tác và họ cần phản hồi sớm để kịp ký kết hợp đồng. \n",
    "Ngoài ra, vấn đề ngân sách cũng cần được xem xét vì có một số khoản chi chưa được phê duyệt. \n",
    "Chúng ta cần đưa ra quyết định sớm để đảm bảo nguồn lực đầy đủ. \n",
    "Cuối cùng, tôi đề xuất tổ chức một cuộc họp nhỏ vào tuần sau để kiểm tra tiến độ từng nhóm trước khi có báo cáo chính thức. \n",
    "Nếu không còn ý kiến gì thêm, chúng ta kết thúc cuộc họp tại đây.!\"\"\""
   ]
  },
  {
   "cell_type": "code",
   "execution_count": null,
   "metadata": {},
   "outputs": [],
   "source": [
    "# Tiền xử lý văn bản\n",
    "contents_parsed = content.lower()  # Chuyển tất cả sang chữ thường\n",
    "contents_parsed = contents_parsed.replace('\\n', '. ')  # Thay đổi ký tự xuống dòng thành dấu chấm câu\n",
    "contents_parsed = contents_parsed.strip()  # Loại bỏ khoảng trắng thừa"
   ]
  },
  {
   "cell_type": "code",
   "execution_count": null,
   "metadata": {},
   "outputs": [
    {
     "data": {
      "text/plain": [
       "'hôm nay chúng ta họp để bàn về kế hoạch triển khai dự án quý tới. . đầu tiên, nhóm kỹ thuật sẽ cần hoàn thành việc nâng cấp hệ thống vào cuối tháng này. . điều này rất quan trọng để đảm bảo không ảnh hưởng đến tiến độ chung. . tiếp theo, nhóm kinh doanh đã liên hệ với một số đối tác và họ cần phản hồi sớm để kịp ký kết hợp đồng. . ngoài ra, vấn đề ngân sách cũng cần được xem xét vì có một số khoản chi chưa được phê duyệt. . chúng ta cần đưa ra quyết định sớm để đảm bảo nguồn lực đầy đủ. . cuối cùng, tôi đề xuất tổ chức một cuộc họp nhỏ vào tuần sau để kiểm tra tiến độ từng nhóm trước khi có báo cáo chính thức. . nếu không còn ý kiến gì thêm, chúng ta kết thúc cuộc họp tại đây.!'"
      ]
     },
     "execution_count": 4,
     "metadata": {},
     "output_type": "execute_result"
    }
   ],
   "source": [
    "# In kết quả sau khi xử lý\n",
    "contents_parsed"
   ]
  },
  {
   "cell_type": "code",
   "execution_count": 5,
   "metadata": {},
   "outputs": [
    {
     "ename": "ModuleNotFoundError",
     "evalue": "No module named 'spacy'",
     "output_type": "error",
     "traceback": [
      "\u001b[1;31m---------------------------------------------------------------------------\u001b[0m",
      "\u001b[1;31mModuleNotFoundError\u001b[0m                       Traceback (most recent call last)",
      "Cell \u001b[1;32mIn[5], line 1\u001b[0m\n\u001b[1;32m----> 1\u001b[0m \u001b[38;5;28;01mimport\u001b[39;00m \u001b[38;5;21;01mspacy\u001b[39;00m\n\u001b[0;32m      2\u001b[0m \u001b[38;5;28;01mfrom\u001b[39;00m \u001b[38;5;21;01mpyvi\u001b[39;00m \u001b[38;5;28;01mimport\u001b[39;00m ViTokenizer\n",
      "\u001b[1;31mModuleNotFoundError\u001b[0m: No module named 'spacy'"
     ]
    }
   ],
   "source": [
    "import spacy\n",
    "from pyvi import ViTokenizer"
   ]
  },
  {
   "cell_type": "code",
   "execution_count": 33,
   "metadata": {},
   "outputs": [
    {
     "name": "stdout",
     "output_type": "stream",
     "text": [
      "Số câu trong văn bản: 8\n",
      "['hôm nay chúng ta họp để bàn về kế hoạch triển khai dự án quý tới. .', 'đầu tiên, nhóm kỹ thuật sẽ cần hoàn thành việc nâng cấp hệ thống vào cuối tháng này. .', 'điều này rất quan trọng để đảm bảo không ảnh hưởng đến tiến độ chung. .', 'tiếp theo, nhóm kinh doanh đã liên hệ với một số đối tác và họ cần phản hồi sớm để kịp ký kết hợp đồng. .', 'ngoài ra, vấn đề ngân sách cũng cần được xem xét vì có một số khoản chi chưa được phê duyệt. .', 'chúng ta cần đưa ra quyết định sớm để đảm bảo nguồn lực đầy đủ. .', 'cuối cùng, tôi đề xuất tổ chức một cuộc họp nhỏ vào tuần sau để kiểm tra tiến độ từng nhóm trước khi có báo cáo chính thức. .', 'nếu không còn ý kiến gì thêm, chúng ta kết thúc cuộc họp tại đây.!']\n"
     ]
    }
   ],
   "source": [
    "# Khởi tạo mô hình spaCy trống cho tiếng Việt\n",
    "nlp = spacy.blank(\"vi\")\n",
    "\n",
    "# Thêm Sentencizer vào pipeline để xác định ranh giới câu\n",
    "nlp.add_pipe(\"sentencizer\")\n",
    "\n",
    "# Phân tích văn bản\n",
    "doc = nlp(contents_parsed)\n",
    "\n",
    "# Lấy danh sách câu\n",
    "sentences = [sent.text for sent in doc.sents]\n",
    "\n",
    "# Đếm số câu trong danh sách sentences\n",
    "num_sentences = len(sentences)\n",
    "print(f\"Số câu trong văn bản: {num_sentences}\")\n",
    "\n",
    "print(sentences)\n"
   ]
  },
  {
   "cell_type": "code",
   "execution_count": 34,
   "metadata": {},
   "outputs": [],
   "source": [
    "from transformers import AutoTokenizer, AutoModel\n",
    "import torch"
   ]
  },
  {
   "cell_type": "code",
   "execution_count": 35,
   "metadata": {},
   "outputs": [],
   "source": [
    "# Load PhoBERT\n",
    "tokenizer = AutoTokenizer.from_pretrained(\"vinai/phobert-base\")\n",
    "model = AutoModel.from_pretrained(\"vinai/phobert-base\")"
   ]
  },
  {
   "cell_type": "code",
   "execution_count": 36,
   "metadata": {},
   "outputs": [
    {
     "name": "stderr",
     "output_type": "stream",
     "text": [
      "Asking to truncate to max_length but no maximum length is provided and the model has no predefined maximum length. Default to no truncation.\n"
     ]
    }
   ],
   "source": [
    "# Chuyển từng câu thành vector\n",
    "X = []\n",
    "for sentence in sentences:\n",
    "    inputs = tokenizer(sentence, return_tensors=\"pt\", padding=True, truncation=True)\n",
    "    with torch.no_grad():\n",
    "        outputs = model(**inputs)\n",
    "    sentence_vec = outputs.last_hidden_state.mean(dim=1).squeeze().numpy()  # Lấy mean pooling\n",
    "    \n",
    "    X.append(sentence_vec)\n"
   ]
  },
  {
   "cell_type": "code",
   "execution_count": 37,
   "metadata": {},
   "outputs": [
    {
     "name": "stdout",
     "output_type": "stream",
     "text": [
      "Vector của câu đầu tiên: [-1.44541338e-01  1.96281075e-01 -1.91772208e-02 -1.29348323e-01\n",
      "  6.10941015e-02  1.55328780e-01  2.22732246e-01 -2.14256644e-01\n",
      " -3.41902561e-02 -1.36493921e-01  2.61065699e-02  6.49976134e-02\n",
      " -1.00475445e-01  3.56359407e-02 -6.07962906e-02  1.08285651e-01\n",
      "  2.31777150e-02  1.87922083e-02 -1.64273866e-02 -2.82295167e-01\n",
      " -2.28835702e-01 -2.52002835e-01  3.48294675e-01  2.43375093e-01\n",
      " -3.48876536e-01 -1.26819000e-01  3.58913362e-01  9.40350816e-02\n",
      "  2.37719715e-01 -1.69980794e-01 -3.92086618e-02 -1.06320575e-01\n",
      " -1.91202506e-01  4.29077595e-02  5.86768270e-01  2.63390303e-01\n",
      "  1.38172358e-01 -6.79946169e-02  6.46356493e-02  3.44668001e-01\n",
      " -2.66886558e-02  1.90824002e-01  6.72454014e-02  1.09201089e-01\n",
      "  1.25981674e-01  7.11825415e-02  1.90880746e-01 -2.80792683e-01\n",
      "  2.90255547e-02  2.41848379e-01  1.03770018e-01 -1.24559857e-01\n",
      " -1.29398420e-01  6.43837631e-01  1.02766842e-01 -2.81626612e-01\n",
      "  1.25570246e-03  3.50813009e-02  4.85363528e-02 -6.22064061e-02\n",
      "  1.30840361e-01 -5.15439928e-01 -2.66089290e-01  1.80421397e-01\n",
      "  6.34217858e-02 -4.40486729e-01  3.70210595e-02  1.51098415e-01\n",
      "  1.56766400e-01  9.79222879e-02  2.01526433e-01 -2.05904648e-01\n",
      "  1.99429676e-01  1.61781013e-01  1.37650505e-01  2.50235349e-01\n",
      " -1.58829123e-01 -2.08458543e-01  1.88596416e-02  2.19474714e-02\n",
      "  1.56619117e-01 -1.97476938e-01  1.92294642e-01  3.76525298e-02\n",
      " -1.50325075e-01  8.54651779e-02 -2.50884354e-01 -1.21190920e-01\n",
      "  5.14472313e-02  8.16369429e-02  1.65440232e-01  2.56081939e-01\n",
      "  2.42184829e-02  5.08899987e-01 -2.00810209e-02 -4.07559238e-02\n",
      " -3.99801731e-02 -1.36147335e-01 -6.00157902e-02  1.63985193e-01\n",
      " -1.12678543e-01  2.13755012e-01  3.74029219e-01 -1.41972192e-02\n",
      "  7.61131123e-02 -2.72621214e-01  6.63709193e-02  6.09096624e-02\n",
      " -9.09722820e-02  2.87169516e-01 -9.26363468e-03  3.75577241e-01\n",
      "  1.63740516e-01  7.36722723e-02 -9.85812694e-02  7.20998943e-02\n",
      "  1.81659698e-01 -7.53067955e-02 -1.33491322e-01  1.10004973e-02\n",
      " -6.79850020e-03  2.33255640e-01 -4.75474671e-02 -2.19709426e-01\n",
      " -6.86794370e-02 -3.31638642e-02 -7.03491122e-02  1.54890090e-01\n",
      " -5.45222282e-01 -2.87621826e-01  2.05132030e-02 -6.15664780e-01\n",
      " -6.81026354e-02  1.01352364e-01 -9.46356654e-02  1.10590003e-01\n",
      " -2.35947654e-01  4.27041054e-02 -6.99118748e-02 -4.12073404e-01\n",
      "  1.96612626e-01  2.12657928e-01 -3.01316023e-01  5.19381404e-01\n",
      "  5.77940606e-02  1.95452645e-01  6.73471838e-02 -1.33877676e-02\n",
      " -1.16667449e-01  3.61794196e-02  3.19702566e-01  1.13738552e-01\n",
      " -5.79388998e-02  3.20605445e-03 -2.47325689e-01 -1.36989430e-01\n",
      "  2.80384213e-01  6.99645653e-02  3.92904818e-01  1.61355719e-01\n",
      " -1.55742139e-01  2.11540252e-01  5.16890287e-01  6.88562766e-02\n",
      " -1.06671080e-01 -1.87171593e-01 -3.59606557e-02  2.56608129e-01\n",
      " -1.35818332e-01 -1.87350959e-01 -1.23656407e-01  8.24838802e-02\n",
      "  5.35221994e-02 -3.97668444e-02  1.61332339e-01  5.65057360e-02\n",
      "  1.02736630e-01  2.24402267e-02 -1.62626989e-02 -7.70815611e-02\n",
      "  1.95171401e-01  3.85625571e-01  1.32962197e-01  1.06505781e-01\n",
      " -1.09724909e-01  1.66737497e-01 -3.22522700e-01 -2.37592250e-01\n",
      "  3.48871171e-01  6.85761273e-02 -1.09374784e-01  1.08765192e-01\n",
      "  2.10872248e-01 -1.21657439e-01  1.35811225e-01 -1.65833533e-01\n",
      "  1.16150558e-01  1.15689814e-01  4.25879844e-02 -1.08513208e-02\n",
      "  1.37389034e-01 -1.06045164e-01  2.56716311e-01 -4.44780439e-01\n",
      " -3.44903059e-02 -3.52377072e-02  2.05128510e-02  4.57452536e-02\n",
      "  1.77624866e-01  4.66273934e-01  7.35693574e-02  7.79809281e-02\n",
      "  1.86970323e-01 -5.12218475e-01 -6.55124187e-02  3.42506282e-02\n",
      "  3.23027372e-02 -2.61362307e-02 -1.72618285e-01 -4.96984310e-02\n",
      " -1.05714887e-01 -2.69753132e-02 -2.63968974e-01  5.90013191e-02\n",
      "  2.82605559e-01  1.76299974e-01  1.87304705e-01  1.62535638e-01\n",
      "  2.14721456e-01 -1.07905470e-01  1.38456658e-01 -7.26987645e-02\n",
      " -1.14825927e-01 -8.28464807e-04 -7.91168064e-02 -9.34817083e-03\n",
      "  1.43569633e-01  8.59865323e-02 -1.41961023e-01  2.19998974e-02\n",
      "  1.98194072e-01  1.52679026e-01 -1.55094072e-01 -1.27393439e-01\n",
      "  1.16509415e-01  2.82104641e-01 -1.76106058e-02 -1.69514809e-02\n",
      " -6.10511541e-01 -3.28222886e-02  1.44691214e-01  8.61547738e-02\n",
      " -2.47733984e-02  2.24485360e-02  1.29548712e-02  1.91635430e-01\n",
      "  3.83480877e-01  3.32908444e-02 -9.46045574e-03 -5.56902364e-02\n",
      "  2.05991358e-01  9.45472568e-02  3.84835601e-01 -2.55713910e-02\n",
      " -2.24640206e-01  1.66474748e-02  4.03108507e-01  6.48181513e-02\n",
      " -2.01627463e-01 -2.26538628e-02  1.31209092e-02  2.09335238e-01\n",
      "  8.42071846e-02  9.14145231e-01  6.34476542e-02  1.55277718e-02\n",
      "  2.82856584e-01  1.22753811e+00  1.33567929e-01  1.45027503e-01\n",
      "  1.58865005e-01  1.62094563e-01 -1.69045463e-01  5.00472225e-02\n",
      "  1.03630722e-01  3.22962821e-01  1.25795111e-01  4.58143242e-02\n",
      " -1.67784005e-01  5.08609600e-02 -4.77765590e-01  2.78867573e-01\n",
      "  1.99285552e-01  1.80072695e-01  1.94280595e-01  1.12527803e-01\n",
      " -1.12995252e-01 -2.92968482e-01  7.59871826e-02  1.10886320e-01\n",
      " -1.19750248e-02  9.24412236e-02  6.11360483e-02  2.57738996e-02\n",
      " -1.54240161e-01 -3.70257348e-02  1.79575667e-01 -5.56104407e-02\n",
      "  1.36146903e-01 -2.96577126e-01  1.38125107e-01 -1.06360495e-01\n",
      " -1.62338521e-02  1.49720311e-01 -1.72724038e-01  6.59272745e-02\n",
      "  3.41194011e-02 -2.46035028e-02  6.39645243e-03  4.46773693e-02\n",
      " -2.81296857e-02 -1.13805860e-01 -4.92230467e-02 -2.65986808e-02\n",
      " -3.69345620e-02 -8.73463526e-02  1.34186432e-01  1.87654138e-01\n",
      " -2.56810278e-01 -7.70629495e-02 -3.81510588e-03  1.21875435e-01\n",
      "  1.03528321e-01  1.18117249e-02 -5.66410385e-02  1.80534586e-01\n",
      "  4.16087434e-02  2.08786741e-01 -5.12324274e-01 -2.50026882e-01\n",
      "  4.36040945e-02  4.23110336e-01 -8.56444687e-02  1.71246797e-01\n",
      "  7.57515281e-02 -7.68019259e-02 -7.23254308e-02 -6.60137311e-02\n",
      " -2.62728721e-01 -4.76252288e-02 -5.03466547e-01  6.83273524e-02\n",
      "  1.14122130e-01 -8.02781358e-02 -5.48698120e-02 -4.88006055e-01\n",
      " -6.08167090e-02 -1.23888358e-01 -1.28377885e-01  1.14514239e-01\n",
      "  1.64520547e-01  6.96062520e-02  2.69998480e-02  7.33791068e-02\n",
      "  5.44767305e-02  8.49744081e-02  1.75617784e-02  5.32957911e-01\n",
      "  6.64214557e-03 -3.57429497e-02 -1.93658328e-04  7.67160952e-02\n",
      "  1.38434783e-01 -1.79536976e-02  2.74503510e-02  5.76724559e-02\n",
      "  7.13981539e-02 -2.39192411e-01 -1.06001489e-01  1.23967297e-01\n",
      " -1.31407812e-01 -8.82240459e-02  6.28554970e-02 -1.14525951e-01\n",
      "  7.06192479e-02  2.57971823e-01  9.47484821e-02 -2.37847239e-01\n",
      "  1.92435016e-03 -1.36957064e-01 -9.02999714e-02 -1.89038098e-01\n",
      "  1.12077937e-01  1.25299811e-01 -5.82086146e-02 -1.57260939e-01\n",
      "  4.26447392e-03 -9.84315202e-02 -3.97655934e-01  1.00860402e-01\n",
      "  1.46393806e-01  2.98468530e-01  3.81124824e-01  3.21045756e-01\n",
      " -1.43406494e-02 -3.76860321e-01  1.48103178e-01 -9.05863792e-02\n",
      " -7.95278028e-02  1.25062898e-01 -1.45640597e-02  4.44001436e-01\n",
      " -4.92518302e-03  3.99340302e-01  3.40310872e-01 -2.25042745e-01\n",
      " -5.39507866e-02 -2.61770248e-01  3.51423562e-01  1.32396281e-01\n",
      "  4.08599079e-02 -3.33971679e-02 -2.48880699e-01 -1.48429275e-01\n",
      "  3.95969838e-01  3.28554094e-01 -7.14653581e-02 -4.32201326e-02\n",
      " -8.27294961e-02  2.54112780e-01 -1.59285843e-01 -1.01271093e-01\n",
      "  4.57016140e-01 -1.74891397e-01  7.06906676e-01 -9.53850076e-02\n",
      " -4.20322061e-01 -2.50153184e-01  2.09161714e-01 -7.11982325e-02\n",
      "  9.50042307e-02  2.67400324e-01 -5.35400026e-02 -4.95247543e-02\n",
      "  3.71931680e-02  6.67655468e-02  3.85150552e-01  3.15878004e-01\n",
      " -1.33329272e-01  2.76160408e-02 -3.77973616e-01  2.83983469e-01\n",
      " -2.14631170e-01  5.24023026e-02 -1.43464535e-01  8.44041482e-02\n",
      "  2.54502028e-01  1.26387358e-01  2.46457569e-02 -1.71962038e-01\n",
      "  2.54495312e-02  4.18736398e-01  1.33283138e-01  8.65231007e-02\n",
      "  3.37443054e-01  2.06723437e-01  2.51874983e-01  8.60053450e-02\n",
      "  4.10830677e-01  8.30434263e-02 -1.38110947e-02  2.60308444e-01\n",
      "  9.32667404e-03 -4.36066866e-01  3.39057967e-02  2.10909113e-01\n",
      "  1.13686100e-01  2.11629480e-01 -2.97288954e-01  2.89308041e-01\n",
      "  1.70237273e-01  2.91879512e-02  6.76861405e-02 -9.11725983e-02\n",
      " -8.96183550e-02 -2.85784215e-01 -8.17033201e-02  4.86132428e-02\n",
      " -1.61599546e-05  8.00498351e-02  2.88642012e-02  1.80259794e-01\n",
      "  1.24134496e-01 -1.13354839e-01  5.25264516e-02  7.26257145e-01\n",
      "  2.85484418e-02  6.15202300e-02  2.11183354e-02  2.17154667e-01\n",
      "  5.08298688e-02 -2.09498048e-01  4.73339885e-01  1.26158893e-01\n",
      "  1.93334147e-01  1.24563441e-01  2.01532498e-01  1.34446263e-01\n",
      " -1.26724392e-01  9.99730453e-02 -9.18562487e-02  1.23151794e-01\n",
      " -2.25786641e-01  1.25658140e-01 -1.47776932e-01  1.35325510e-02\n",
      " -1.47418275e-01 -8.55216831e-02 -5.44700146e-01  1.04824733e-02\n",
      " -7.41227493e-02  2.17668235e-01 -3.48608084e-02 -8.77786502e-02\n",
      " -6.61018193e-01 -2.74933040e-01  2.35113800e-01  2.20495045e-01\n",
      "  1.34505019e-01 -2.40628079e-01 -2.48623922e-01  1.38930678e-01\n",
      "  4.78790015e-01  3.52556705e-02  1.95598844e-02  2.71419793e-01\n",
      "  2.59325001e-02 -2.13224977e-01  8.67262408e-02  5.06215282e-02\n",
      "  2.36582205e-01 -3.12906504e-01 -9.25682038e-02 -1.52632311e-01\n",
      " -1.44365290e-02 -8.85049701e-02  1.97331198e-02  3.21437359e-01\n",
      " -1.77852251e-02 -2.31851175e-01 -1.86579719e-01  1.44929454e-01\n",
      "  8.48561823e-02  1.40688151e-01  7.22747343e-03 -1.43134790e-02\n",
      "  2.74536937e-01  2.91046351e-01  3.53011250e-01  2.47853547e-01\n",
      " -1.64098993e-01 -4.73700371e-03  3.93772312e-02  2.91593764e-02\n",
      " -7.35991150e-02  3.65678407e-02  1.42514125e-01  2.46616006e-01\n",
      " -1.06817968e-02 -1.84171215e-01  1.63591102e-01  2.54237540e-02\n",
      "  4.93554890e-01  2.18034443e-02  9.72327515e-02 -2.72493134e-03\n",
      "  1.46333694e-01  1.96098596e-01 -1.97954223e-01 -6.93701059e-02\n",
      "  1.89447150e-01  9.79097039e-02  1.94929764e-01 -3.17073673e-01\n",
      " -1.45574749e-01  1.39601128e-02  8.25638846e-02  2.59776354e-01\n",
      " -2.55816311e-01  5.56794047e-01  1.72693872e+00 -9.46432278e-02\n",
      "  1.83089413e-02  1.11390181e-01  2.00269744e-01 -1.10402934e-01\n",
      "  2.78579056e-01 -6.50489777e-02 -2.94326633e-01 -2.54671663e-01\n",
      "  1.83835238e-01  2.65403211e-01  7.20562413e-02  9.22198445e-02\n",
      " -2.29641736e-01  8.45725164e-02 -3.35455477e-01  1.81565598e-01\n",
      " -1.79593652e-01  2.40985096e-01 -6.11828327e-01 -2.12671980e-01\n",
      "  2.05595091e-01 -6.88789934e-02  2.45866090e-01 -3.13210726e-01\n",
      "  1.22259051e-01  1.47746913e-02  3.29786867e-01  5.61426468e-02\n",
      "  3.78241777e-01  1.26526326e-01  1.22976780e-01  2.30868265e-01\n",
      " -2.89539192e-02 -1.35419264e-01 -1.04007423e-01 -1.64266944e-01\n",
      "  1.06145903e-01 -1.70610864e-02 -2.75584191e-01 -2.49912031e-02\n",
      "  1.50202826e-01  4.48188454e-01  1.28230616e-01 -8.51693973e-02\n",
      "  2.11797148e-01  8.97700991e-03 -3.33501369e-01  1.61800489e-01\n",
      "  1.74949601e-01 -3.24954884e-03  8.52118582e-02 -2.50929028e-01\n",
      " -2.51311302e-01  5.74480593e-02  9.14987847e-02  1.28374070e-01\n",
      " -1.71404317e-01  1.58304036e-01  3.63327898e-02  8.15777574e-03\n",
      "  6.77670538e-02 -4.37306538e-02  7.02028424e-02 -8.10288414e-02\n",
      "  4.12646234e-01  1.21851854e-01  5.80398627e-02  1.61845848e-01\n",
      " -1.18497886e-01 -6.82276264e-02 -9.89624560e-02  1.24461718e-01\n",
      "  1.01970776e-03 -2.02134907e-01  3.15042995e-02  5.80113269e-02\n",
      " -1.09846480e-01  1.91976979e-01 -1.67896822e-01  6.21905327e-02\n",
      "  4.06997092e-02  2.30748579e-01  3.14431995e-01 -2.60414109e-02\n",
      " -9.93036330e-02 -2.01781780e-01 -1.24461018e-01  3.02482516e-01\n",
      "  1.77324861e-01  8.05551633e-02  1.34562463e-01  7.92468563e-02\n",
      "  3.26264679e-01  5.28321043e-02  1.62849590e-01  5.33277541e-02\n",
      "  3.40521592e-03 -1.78880468e-01  7.68554881e-02 -1.03288352e-01\n",
      "  5.67078702e-02  3.46060753e-01  1.84935421e-01 -5.67969941e-02\n",
      "  4.73764017e-02  2.03418210e-01 -1.77621126e-01 -9.14919972e-02\n",
      "  4.60063741e-02 -6.04757387e-03 -2.32000295e-02  4.62848507e-02\n",
      " -6.15414046e-02  1.08160816e-01 -9.49844345e-02 -1.91929545e-02\n",
      " -2.26792067e-01  1.71302497e-01 -7.72307292e-02  1.85402989e-01\n",
      " -4.49104011e-02  1.03446260e-01  4.47122194e-02 -3.98341954e-01\n",
      "  1.30355842e-02  3.42864133e-02 -2.75728583e-01  1.44777641e-01\n",
      " -6.07755125e-01 -3.96762565e-02 -1.05161168e-01 -2.99421754e-02\n",
      "  2.10064009e-01 -1.73679858e-01  1.45386398e-01 -1.55720264e-01\n",
      " -3.51154119e-01  3.35339934e-01  1.82967260e-01  7.18837827e-02\n",
      "  6.14930801e-02  1.06403463e-01  1.27477758e-02  8.83144736e-02\n",
      " -1.30927593e-01  1.04520775e-01 -6.59533292e-02  2.76420355e-01\n",
      " -1.68894827e-01  2.95030266e-01  2.55929708e-01  1.70796588e-01\n",
      " -7.45216310e-02  3.47118139e-01  1.92829445e-01 -1.82084739e-01\n",
      " -1.84056401e-01  1.19810343e-01  2.52513736e-01  1.36535734e-01\n",
      "  3.20743710e-01 -6.84421211e-02 -1.27827197e-01  7.35429227e-02\n",
      "  6.95275441e-02  1.07268400e-01 -2.25307241e-01 -2.50345647e-01\n",
      " -1.32890716e-02  1.41669856e-02 -1.75392359e-01  9.78650823e-02\n",
      " -3.64813507e-02  2.54461706e-01 -6.09323196e-02  2.33709887e-01]\n"
     ]
    }
   ],
   "source": [
    "\n",
    "print(\"Vector của câu đầu tiên:\", X[0])"
   ]
  },
  {
   "cell_type": "code",
   "execution_count": 38,
   "metadata": {},
   "outputs": [],
   "source": [
    "# import fasttext\n",
    "\n",
    "# # Load mô hình fastText\n",
    "# fasttext_model = fasttext.load_model(\"cc.vi.300.bin\")\n",
    "\n",
    "# # Vector của câu đầu tiên với fastText\n",
    "# fasttext_vector = fasttext_model.get_sentence_vector(sentences[0])\n",
    "\n",
    "# # Tính khoảng cách Cosine giữa hai vector\n",
    "# distance = cosine(X[0], fasttext_vector)\n",
    "# print(\"Khoảng cách Cosine giữa vector PhoBERT và fastText:\", distance)\n"
   ]
  },
  {
   "cell_type": "code",
   "execution_count": 39,
   "metadata": {},
   "outputs": [
    {
     "name": "stdout",
     "output_type": "stream",
     "text": [
      "Kích thước X: (8, 768)\n"
     ]
    }
   ],
   "source": [
    "import numpy as np\n",
    "\n",
    "# Chuyển X thành NumPy array nếu nó là list\n",
    "if isinstance(X, list):\n",
    "    X = np.array(X)\n",
    "\n",
    "print(f\"Kích thước X: {X.shape}\")  # Kiểm tra X có đúng dạng (số câu, 768) hay không\n"
   ]
  },
  {
   "cell_type": "code",
   "execution_count": 40,
   "metadata": {},
   "outputs": [
    {
     "name": "stdout",
     "output_type": "stream",
     "text": [
      "Số cụm K tối ưu (Gap Statistic): 5\n"
     ]
    }
   ],
   "source": [
    "from gap_statistic import OptimalK\n",
    "import numpy as np\n",
    "\n",
    "optimalK = OptimalK(parallel_backend='none')\n",
    "\n",
    "# Đảm bảo số cụm tối đa không lớn hơn số câu có trong dữ liệu\n",
    "K_range = np.arange(2, min(10, X.shape[0]))  # Giới hạn số cụm hợp lý\n",
    "\n",
    "K_optimal = optimalK(X, cluster_array=K_range)\n",
    "\n",
    "print(f\"Số cụm K tối ưu (Gap Statistic): {K_optimal}\")\n"
   ]
  },
  {
   "cell_type": "code",
   "execution_count": 41,
   "metadata": {},
   "outputs": [],
   "source": [
    "from sklearn.cluster import KMeans\n",
    "\n",
    "# Chọn số cụm K (ví dụ: 3 cụm)\n",
    "K = K_optimal\n",
    "kmeans = KMeans(n_clusters=K, random_state=42, n_init=10)\n",
    "\n",
    "# Thực hiện phân cụm\n",
    "kmeans.fit(X)\n",
    "\n",
    "# Lấy nhãn cụm của từng câu\n",
    "labels = kmeans.labels_\n"
   ]
  },
  {
   "cell_type": "code",
   "execution_count": 42,
   "metadata": {},
   "outputs": [
    {
     "name": "stdout",
     "output_type": "stream",
     "text": [
      "Văn bản tóm tắt:\n",
      "hôm nay chúng ta họp để bàn về kế hoạch triển khai dự án quý tới. . điều này rất quan trọng để đảm bảo không ảnh hưởng đến tiến độ chung. . cuối cùng, tôi đề xuất tổ chức một cuộc họp nhỏ vào tuần sau để kiểm tra tiến độ từng nhóm trước khi có báo cáo chính thức. . ngoài ra, vấn đề ngân sách cũng cần được xem xét vì có một số khoản chi chưa được phê duyệt. . chúng ta cần đưa ra quyết định sớm để đảm bảo nguồn lực đầy đủ. .\n"
     ]
    }
   ],
   "source": [
    "import numpy as np\n",
    "from sklearn.metrics import pairwise_distances_argmin_min\n",
    "\n",
    "# Lấy số cụm từ K-Means\n",
    "n_clusters = K_optimal\n",
    "\n",
    "# Tìm câu gần trung tâm cụm nhất\n",
    "closest, _ = pairwise_distances_argmin_min(kmeans.cluster_centers_, X)\n",
    "\n",
    "# Tính thứ tự xuất hiện trung bình của từng cụm\n",
    "avg = []\n",
    "for j in range(n_clusters):\n",
    "    idx = np.where(kmeans.labels_ == j)[0]  # Lấy chỉ mục các câu thuộc cụm j\n",
    "    avg.append(np.mean(idx))  # Tính thứ tự xuất hiện trung bình\n",
    "\n",
    "# Sắp xếp cụm theo thứ tự xuất hiện trung bình\n",
    "ordering = sorted(range(n_clusters), key=lambda k: avg[k])\n",
    "\n",
    "# Xây dựng đoạn văn bản tóm tắt\n",
    "summary = ' '.join([sentences[closest[idx]] for idx in ordering])\n",
    "\n",
    "# Hiển thị đoạn tóm tắt\n",
    "print(\"Văn bản tóm tắt:\")\n",
    "print(summary)\n"
   ]
  }
 ],
 "metadata": {
  "kernelspec": {
   "display_name": "base",
   "language": "python",
   "name": "python3"
  },
  "language_info": {
   "codemirror_mode": {
    "name": "ipython",
    "version": 3
   },
   "file_extension": ".py",
   "mimetype": "text/x-python",
   "name": "python",
   "nbconvert_exporter": "python",
   "pygments_lexer": "ipython3",
   "version": "3.12.4"
  }
 },
 "nbformat": 4,
 "nbformat_minor": 2
}
